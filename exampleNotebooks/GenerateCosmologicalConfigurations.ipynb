{
 "cells": [
  {
   "cell_type": "markdown",
   "metadata": {},
   "source": [
    "## This Notebook calculates the powerspektrum for various diffrent cosmological starting parameters"
   ]
  },
  {
   "cell_type": "code",
   "execution_count": 22,
   "metadata": {},
   "outputs": [
    {
     "data": {
      "text/plain": [
       "'euclid03'"
      ]
     },
     "execution_count": 22,
     "metadata": {},
     "output_type": "execute_result"
    }
   ],
   "source": [
    "import socket\n",
    "socket.gethostname()"
   ]
  },
  {
   "cell_type": "code",
   "execution_count": 23,
   "metadata": {},
   "outputs": [],
   "source": [
    "import pyccl as ccl\n",
    "import g3lhalo\n",
    "import matplotlib.pyplot as plt\n",
    "import numpy as np\n",
    "from pyDOE import lhs\n",
    "import tensorflow as tf\n",
    "import matplotlib.pyplot as plt\n",
    "import json\n",
    "import os\n",
    "from datetime import datetime"
   ]
  },
  {
   "cell_type": "code",
   "execution_count": 24,
   "metadata": {},
   "outputs": [],
   "source": [
    "#%pip install pyDOE"
   ]
  },
  {
   "cell_type": "code",
   "execution_count": 25,
   "metadata": {},
   "outputs": [
    {
     "name": "stdout",
     "output_type": "stream",
     "text": [
      "using cpu device \n",
      "\n"
     ]
    }
   ],
   "source": [
    "# checking that we are using a GPU\n",
    "device = 'gpu:0' if tf.test.is_gpu_available() else 'cpu'\n",
    "print('using', device, 'device \\n')"
   ]
  },
  {
   "cell_type": "code",
   "execution_count": 26,
   "metadata": {},
   "outputs": [],
   "source": [
    "# setting the seed for reproducibility\n",
    "np.random.seed(9721)\n",
    "tf.random.set_seed(9721)"
   ]
  },
  {
   "cell_type": "markdown",
   "metadata": {},
   "source": [
    "## Calculating dataset"
   ]
  },
  {
   "cell_type": "code",
   "execution_count": 27,
   "metadata": {},
   "outputs": [
    {
     "name": "stdout",
     "output_type": "stream",
     "text": [
      "CPU-Zeit: user = 27.8700s, system = 3.8300s, total = 31.7000s\n"
     ]
    }
   ],
   "source": [
    "N_total = 10000000\n",
    "num_params = 10\n",
    "\n",
    "data_array = np.empty((N_total, num_params), dtype=object)\n",
    "\n",
    "Mth_min = 1e10\n",
    "Mth_max = 1e15\n",
    "# Definiere die Intervalle für die kosmologischen Parameter\n",
    "param_intervals = {\n",
    "    'Om_c': (0.1, 0.6),\n",
    "    'Om_b': (0.04, 0.06),\n",
    "    'h': (0.64, 0.82),\n",
    "    'sigma_8': (0.8, 1),\n",
    "    'n_s': (0.84, 1.1),\n",
    "    'alpha': (0, 1),\n",
    "    'sigma': (0.01, 1),\n",
    "    'Mth': (Mth_min, Mth_max),\n",
    "    'Mprime': (Mth_min * 1, Mth_max * 100),\n",
    "    'beta': (0.1, 2)\n",
    "}\n",
    "\n",
    "# Anzahl der Parameter (Dimensionen des LHS)\n",
    "num_cosmo_params = len(param_intervals)\n",
    "\n",
    "# Generiere Latin Hypercube Samples (LHS)\n",
    "lhs_samples = lhs(num_cosmo_params, samples=N_total)\n",
    "\n",
    "# Skaliere die LHS-Samples auf die jeweiligen Intervalle\n",
    "cosmo_samples = []\n",
    "start = os.times()\n",
    "for sample in lhs_samples:\n",
    "    cosmo = {\n",
    "        key: param_intervals[key][0] + (param_intervals[key][1] - param_intervals[key][0]) * sample[i]\n",
    "        for i, key in enumerate(param_intervals)\n",
    "    }\n",
    "    cosmo_samples.append(cosmo)\n",
    "end = os.times()\n",
    "\n",
    "user_time = end.user - start.user\n",
    "system_time = end.system - start.system\n",
    "total_cpu_time = user_time + system_time\n",
    "\n",
    "print(f\"CPU-Zeit: user = {user_time:.4f}s, system = {system_time:.4f}s, total = {total_cpu_time:.4f}s\")\n",
    "\n"
   ]
  },
  {
   "cell_type": "markdown",
   "metadata": {},
   "source": [
    "## Saving related parameter"
   ]
  },
  {
   "cell_type": "code",
   "execution_count": 28,
   "metadata": {},
   "outputs": [],
   "source": [
    "timestamp = datetime.now().strftime(\"%Y-%m-%d_%H-%M-%S\")\n",
    "data_dir = \"../Data/\"\n",
    "para_fn = f\"{data_dir}/Parameter_{N_total}_{timestamp}.json\"\n",
    "# Speichern der Daten\n",
    "with open(para_fn, \"w\") as json_file:\n",
    "    json.dump(cosmo_samples, json_file, indent=4)\n"
   ]
  }
 ],
 "metadata": {
  "kernelspec": {
   "display_name": "Python 3 (ipykernel)",
   "language": "python",
   "name": "python3"
  }
 },
 "nbformat": 4,
 "nbformat_minor": 2
}
